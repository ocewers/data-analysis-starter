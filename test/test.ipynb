{
 "cells": [
  {
   "cell_type": "code",
   "execution_count": 1,
   "id": "a2329df2",
   "metadata": {},
   "outputs": [
    {
     "name": "stdout",
     "output_type": "stream",
     "text": [
      "hello world\n"
     ]
    }
   ],
   "source": [
    "# Test to ensure all working\n",
    "print(\"hello world\")"
   ]
  },
  {
   "cell_type": "code",
   "execution_count": null,
   "id": "16be8fa7",
   "metadata": {},
   "outputs": [
    {
     "data": {
      "application/vnd.microsoft.datawrangler.viewer.v0+json": {
       "columns": [
        {
         "name": "index",
         "rawType": "int64",
         "type": "integer"
        },
        {
         "name": "testdata1",
         "rawType": "int64",
         "type": "integer"
        },
        {
         "name": "testdata2",
         "rawType": "object",
         "type": "string"
        }
       ],
       "ref": "bcf05d92-506a-4a82-a1a3-d83ddb03ada9",
       "rows": [
        [
         "0",
         "1",
         "A"
        ],
        [
         "1",
         "2",
         "B"
        ],
        [
         "2",
         "3",
         "C"
        ],
        [
         "3",
         "4",
         "D"
        ],
        [
         "4",
         "5",
         "E"
        ]
       ],
       "shape": {
        "columns": 2,
        "rows": 5
       }
      },
      "text/html": [
       "<div>\n",
       "<style scoped>\n",
       "    .dataframe tbody tr th:only-of-type {\n",
       "        vertical-align: middle;\n",
       "    }\n",
       "\n",
       "    .dataframe tbody tr th {\n",
       "        vertical-align: top;\n",
       "    }\n",
       "\n",
       "    .dataframe thead th {\n",
       "        text-align: right;\n",
       "    }\n",
       "</style>\n",
       "<table border=\"1\" class=\"dataframe\">\n",
       "  <thead>\n",
       "    <tr style=\"text-align: right;\">\n",
       "      <th></th>\n",
       "      <th>testdata1</th>\n",
       "      <th>testdata2</th>\n",
       "    </tr>\n",
       "  </thead>\n",
       "  <tbody>\n",
       "    <tr>\n",
       "      <th>0</th>\n",
       "      <td>1</td>\n",
       "      <td>A</td>\n",
       "    </tr>\n",
       "    <tr>\n",
       "      <th>1</th>\n",
       "      <td>2</td>\n",
       "      <td>B</td>\n",
       "    </tr>\n",
       "    <tr>\n",
       "      <th>2</th>\n",
       "      <td>3</td>\n",
       "      <td>C</td>\n",
       "    </tr>\n",
       "    <tr>\n",
       "      <th>3</th>\n",
       "      <td>4</td>\n",
       "      <td>D</td>\n",
       "    </tr>\n",
       "    <tr>\n",
       "      <th>4</th>\n",
       "      <td>5</td>\n",
       "      <td>E</td>\n",
       "    </tr>\n",
       "  </tbody>\n",
       "</table>\n",
       "</div>"
      ],
      "text/plain": [
       "   testdata1 testdata2\n",
       "0          1         A\n",
       "1          2         B\n",
       "2          3         C\n",
       "3          4         D\n",
       "4          5         E"
      ]
     },
     "execution_count": 2,
     "metadata": {},
     "output_type": "execute_result"
    }
   ],
   "source": [
    "import pandas as pd\n",
    "\n",
    "# Load the CSV file into a DataFrame\n",
    "testdata = pd.read_csv('testdata.csv', engine='pyarrow')\n",
    "\n",
    "# Store testdata as Parquet file\n",
    "testdata.to_parquet('testdata.parquet', engine='pyarrow')\n",
    "\n",
    "# Drop current testdata and reload from Parquet, dtype_backend = 'pyarrow' can be used instead of Numpy\n",
    "testdata = pd.read_parquet('testdata.parquet', engine='pyarrow')\n",
    "\n",
    "# Display the first few rows of the DataFrame\n",
    "testdata.head()"
   ]
  }
 ],
 "metadata": {
  "kernelspec": {
   "display_name": "data-analysis-starter",
   "language": "python",
   "name": "python3"
  },
  "language_info": {
   "codemirror_mode": {
    "name": "ipython",
    "version": 3
   },
   "file_extension": ".py",
   "mimetype": "text/x-python",
   "name": "python",
   "nbconvert_exporter": "python",
   "pygments_lexer": "ipython3",
   "version": "3.13.1"
  }
 },
 "nbformat": 4,
 "nbformat_minor": 5
}
